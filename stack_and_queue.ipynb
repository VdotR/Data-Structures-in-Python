{
 "cells": [
  {
   "cell_type": "markdown",
   "id": "a445b248",
   "metadata": {},
   "source": [
    "# Stack"
   ]
  },
  {
   "cell_type": "code",
   "execution_count": 8,
   "id": "86a30887",
   "metadata": {},
   "outputs": [],
   "source": [
    "# Implements basic stack\n",
    "# Pop and Peek both returns top element\n",
    "class Stack:\n",
    "    def __init__(self, size):\n",
    "        self.items = [None] * size # Use list to store the stack\n",
    "        self.top = -1\n",
    "    \n",
    "    # Returns True when successfully pushed, False otherwise\n",
    "    def push(self, item):\n",
    "        if self.is_full():\n",
    "            print(\"Stack is full, cannot push\")\n",
    "            return False\n",
    "        \n",
    "        self.top += 1\n",
    "        self.items[self.top] = item\n",
    "        return True\n",
    "        \n",
    "    def pop(self):\n",
    "        if self.is_empty():\n",
    "            print(\"Stack is empty, nothing to remove\")\n",
    "            return None\n",
    "        value = self.items[self.top]\n",
    "        self.top -= 1\n",
    "        return value\n",
    "        \n",
    "    def is_empty(self):\n",
    "        return self.top == -1\n",
    "    \n",
    "    def is_full(self):\n",
    "        return self.top == len(self.items) - 1\n",
    "    \n",
    "    def peek(self):\n",
    "        if self.is_empty():\n",
    "            print(\"Stack is empty, nothing to see\")\n",
    "            return None\n",
    "        return self.items[self.top]\n",
    "    \n",
    "    # Prints stack \n",
    "    def __str__(self):\n",
    "        # String representation of the stack simulating a real stack view\n",
    "        if self.is_empty():\n",
    "            return \"Stack is empty\"\n",
    "        \n",
    "        result = \"Stack (top to bottom):\\n\"\n",
    "        for i in range(self.top, -1, -1):\n",
    "            result += f\"| {self.items[i]} |\\n\"\n",
    "        result += \" -----\"  # Bottom of the stack\n",
    "        return result"
   ]
  },
  {
   "cell_type": "markdown",
   "id": "5c02c247",
   "metadata": {},
   "source": [
    "Example Usage:"
   ]
  },
  {
   "cell_type": "code",
   "execution_count": 11,
   "id": "088aad5e",
   "metadata": {},
   "outputs": [
    {
     "name": "stdout",
     "output_type": "stream",
     "text": [
      "Stack (top to bottom):\n",
      "| 30 |\n",
      "| 20 |\n",
      "| 10 |\n",
      " -----\n",
      "Stack is full, cannot push\n",
      "Stack (top to bottom):\n",
      "| 50 |\n",
      "| 40 |\n",
      "| 30 |\n",
      "| 20 |\n",
      "| 10 |\n",
      " -----\n",
      "Stack (top to bottom):\n",
      "| 20 |\n",
      "| 10 |\n",
      " -----\n",
      "Stack is empty, nothing to remove\n",
      "Stack is empty\n"
     ]
    }
   ],
   "source": [
    "stack = Stack(5)\n",
    "stack = Stack(5)\n",
    "stack.push(10)\n",
    "stack.push(20)\n",
    "stack.push(30)\n",
    "\n",
    "print(stack)  # Display the stack contents\n",
    "\n",
    "stack.push(40)\n",
    "stack.push(50)\n",
    "stack.push(60)\n",
    "\n",
    "print(stack)  # Display the stack contents\n",
    "\n",
    "stack.pop()\n",
    "stack.pop()\n",
    "stack.pop()\n",
    "print(stack) \n",
    "stack.pop()\n",
    "stack.pop()\n",
    "stack.pop()\n",
    "print(stack) "
   ]
  },
  {
   "cell_type": "markdown",
   "id": "f781e7a6",
   "metadata": {},
   "source": [
    "# Queues\n",
    "There are 4 different types of queues:\n",
    "- Simple Queue\n",
    "- Circular Queue\n",
    "- Priority Queue\n",
    "- Double Ended Queue \n",
    "\n",
    "## Simple Queue"
   ]
  },
  {
   "cell_type": "code",
   "execution_count": null,
   "id": "27fb75f7",
   "metadata": {},
   "outputs": [],
   "source": []
  }
 ],
 "metadata": {
  "kernelspec": {
   "display_name": "Python 3 (ipykernel)",
   "language": "python",
   "name": "python3"
  },
  "language_info": {
   "codemirror_mode": {
    "name": "ipython",
    "version": 3
   },
   "file_extension": ".py",
   "mimetype": "text/x-python",
   "name": "python",
   "nbconvert_exporter": "python",
   "pygments_lexer": "ipython3",
   "version": "3.10.9"
  }
 },
 "nbformat": 4,
 "nbformat_minor": 5
}
